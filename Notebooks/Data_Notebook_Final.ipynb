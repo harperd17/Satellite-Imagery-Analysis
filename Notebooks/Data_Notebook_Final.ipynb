{
 "cells": [
  {
   "cell_type": "code",
   "execution_count": 1,
   "metadata": {},
   "outputs": [
    {
     "name": "stdout",
     "output_type": "stream",
     "text": [
      "Requirement already satisfied: mpu in c:\\users\\david\\anaconda3\\lib\\site-packages (0.23.1)\n",
      "Requirement already satisfied: geopy in c:\\users\\david\\anaconda3\\lib\\site-packages (2.0.0)\n",
      "Requirement already satisfied: geographiclib<2,>=1.49 in c:\\users\\david\\anaconda3\\lib\\site-packages (from geopy) (1.50)\n",
      "Requirement already satisfied: sentinelhub in c:\\users\\david\\anaconda3\\lib\\site-packages (3.1.0)\n",
      "Requirement already satisfied: utm in c:\\users\\david\\anaconda3\\lib\\site-packages (from sentinelhub) (0.6.0)\n",
      "Requirement already satisfied: botocore in c:\\users\\david\\anaconda3\\lib\\site-packages (from sentinelhub) (1.19.1)\n",
      "Requirement already satisfied: pillow in c:\\users\\david\\anaconda3\\lib\\site-packages (from sentinelhub) (7.2.0)\n",
      "Requirement already satisfied: pyproj>=2.2.0 in c:\\users\\david\\anaconda3\\lib\\site-packages (from sentinelhub) (2.6.1.post1)\n",
      "Requirement already satisfied: boto3 in c:\\users\\david\\anaconda3\\lib\\site-packages (from sentinelhub) (1.16.1)\n",
      "Requirement already satisfied: numpy in c:\\users\\david\\anaconda3\\lib\\site-packages (from sentinelhub) (1.19.1)\n",
      "Requirement already satisfied: oauthlib in c:\\users\\david\\anaconda3\\lib\\site-packages (from sentinelhub) (3.1.0)\n",
      "Requirement already satisfied: click in c:\\users\\david\\anaconda3\\lib\\site-packages (from sentinelhub) (6.7)\n",
      "Requirement already satisfied: requests-oauthlib in c:\\users\\david\\anaconda3\\lib\\site-packages (from sentinelhub) (1.3.0)\n",
      "Requirement already satisfied: tifffile in c:\\users\\david\\anaconda3\\lib\\site-packages (from sentinelhub) (2020.10.1)\n",
      "Requirement already satisfied: aenum>=2.1.4 in c:\\users\\david\\anaconda3\\lib\\site-packages (from sentinelhub) (2.2.4)\n",
      "Requirement already satisfied: wheel in c:\\users\\david\\anaconda3\\lib\\site-packages (from sentinelhub) (0.35.1)\n",
      "Requirement already satisfied: requests>=2.5.0 in c:\\users\\david\\anaconda3\\lib\\site-packages (from sentinelhub) (2.24.0)\n",
      "Requirement already satisfied: shapely in c:\\users\\david\\anaconda3\\lib\\site-packages (from sentinelhub) (1.7.1)\n",
      "Requirement already satisfied: python-dateutil in c:\\users\\david\\anaconda3\\lib\\site-packages (from sentinelhub) (2.8.1)\n",
      "Requirement already satisfied: urllib3<1.26,>=1.25.4; python_version != \"3.4\" in c:\\users\\david\\anaconda3\\lib\\site-packages (from botocore->sentinelhub) (1.25.10)\n",
      "Requirement already satisfied: jmespath<1.0.0,>=0.7.1 in c:\\users\\david\\anaconda3\\lib\\site-packages (from botocore->sentinelhub) (0.10.0)\n",
      "Requirement already satisfied: s3transfer<0.4.0,>=0.3.0 in c:\\users\\david\\anaconda3\\lib\\site-packages (from boto3->sentinelhub) (0.3.3)\n",
      "Requirement already satisfied: idna<3,>=2.5 in c:\\users\\david\\anaconda3\\lib\\site-packages (from requests>=2.5.0->sentinelhub) (2.10)\n",
      "Requirement already satisfied: chardet<4,>=3.0.2 in c:\\users\\david\\anaconda3\\lib\\site-packages (from requests>=2.5.0->sentinelhub) (3.0.4)\n",
      "Requirement already satisfied: certifi>=2017.4.17 in c:\\users\\david\\anaconda3\\lib\\site-packages (from requests>=2.5.0->sentinelhub) (2020.6.20)\n",
      "Requirement already satisfied: six>=1.5 in c:\\users\\david\\anaconda3\\lib\\site-packages (from python-dateutil->sentinelhub) (1.15.0)\n"
     ]
    }
   ],
   "source": [
    "!pip install mpu\n",
    "!pip install geopy\n",
    "!pip install sentinelhub"
   ]
  },
  {
   "cell_type": "code",
   "execution_count": 2,
   "metadata": {},
   "outputs": [],
   "source": [
    "import pandas as pd\n",
    "import numpy as np\n",
    "import zipfile"
   ]
  },
  {
   "cell_type": "code",
   "execution_count": 3,
   "metadata": {},
   "outputs": [],
   "source": [
    "import os\n",
    "import datetime\n",
    "import numpy as np\n",
    "import matplotlib.pyplot as plt\n",
    "from sentinelhub import SHConfig\n",
    "import numpy as np\n",
    "import pandas as pd\n",
    "import requests\n",
    "import urllib\n",
    "\n",
    "from sentinelhub import MimeType, CRS, BBox, SentinelHubRequest, SentinelHubDownloadClient, \\\n",
    "    DataCollection, bbox_to_dimensions, DownloadRequest, to_utm_bbox\n",
    "from sentinelhub import geo_utils\n",
    "\n",
    "import sat_utils"
   ]
  },
  {
   "cell_type": "markdown",
   "metadata": {},
   "source": [
    "## Configuring the API <br>\n",
    "* Please note that this may not work if done after November 20, which is the date the API subscription is over (after that it costs money to keep up)."
   ]
  },
  {
   "cell_type": "code",
   "execution_count": 4,
   "metadata": {},
   "outputs": [],
   "source": [
    "#set up the API configuration\n",
    "CLIENT_ID = '6493e682-3bee-408a-837c-b8e8b2471156'\n",
    "CLIENT_SECRET = 'd1dU,g8ip8I/n-@.S&5BjW]jZ|YhK+56$v{ymq.P'\n",
    "config = SHConfig()\n",
    "\n",
    "if CLIENT_ID and CLIENT_SECRET:\n",
    "    config.sh_client_id = CLIENT_ID\n",
    "    config.sh_client_secret = CLIENT_SECRET\n",
    "    \n",
    "if config.sh_client_id == '' or config.sh_client_secret == '':\n",
    "    print(\"Warning! Credentials aren't entered\")"
   ]
  },
  {
   "cell_type": "markdown",
   "metadata": {},
   "source": [
    "## Setting the Coordinatess for the boxes to pull satellite images of"
   ]
  },
  {
   "cell_type": "code",
   "execution_count": 5,
   "metadata": {},
   "outputs": [],
   "source": [
    "OR_coords = [-124.03333, 44.583333, -123.4166667, 44]"
   ]
  },
  {
   "cell_type": "markdown",
   "metadata": {},
   "source": [
    "## Creating the box objects and the size arrays as needed for requesting the images from the API. I am printing out the sizes to ensure there are less than or equal to 2,500 by 2,500 pixels - this the maximum sized image that can be pulled from the API"
   ]
  },
  {
   "cell_type": "code",
   "execution_count": 6,
   "metadata": {},
   "outputs": [
    {
     "name": "stdout",
     "output_type": "stream",
     "text": [
      "Oregon 1 Coordinates have size \n",
      "(691, 894)\n"
     ]
    }
   ],
   "source": [
    "print(\"Oregon 1 Coordinates have size \")\n",
    "or_bbox, or_size = sat_utils.checkSize(OR_coords,72)\n",
    "print(or_size)"
   ]
  },
  {
   "cell_type": "markdown",
   "metadata": {},
   "source": [
    "## Since the boxes are sized correctly, I will now request the images through the API"
   ]
  },
  {
   "cell_type": "code",
   "execution_count": 7,
   "metadata": {},
   "outputs": [],
   "source": [
    "or_image = sat_utils.getSatelliteImage(or_bbox, or_size,'Oregon1',['07/01/2020','07/15/2020'],'leastCC',config)"
   ]
  },
  {
   "cell_type": "markdown",
   "metadata": {},
   "source": [
    "## Getting All Bands Available through the API"
   ]
  },
  {
   "cell_type": "code",
   "execution_count": 8,
   "metadata": {},
   "outputs": [],
   "source": [
    "or_2_bands = sat_utils.getSecondFourBands(or_bbox, or_size,'Oregon',['07/01/2020','07/15/2020'],'leastCC',config)\n",
    "or_3_bands = sat_utils.getThirdFourBands(or_bbox, or_size,'Oregon',['07/01/2020','07/15/2020'],'leastCC',config)\n",
    "or_fl_bands = sat_utils.getFirstAndLastBands(or_bbox, or_size,'Oregon',['07/01/2020','07/15/2020'],'leastCC',config)\n",
    "or_all_bands = sat_utils.combine([or_image[0],or_2_bands[0],or_3_bands[0],or_fl_bands[0]])"
   ]
  },
  {
   "cell_type": "markdown",
   "metadata": {},
   "source": [
    "## Getting the Elevation Data"
   ]
  },
  {
   "cell_type": "code",
   "execution_count": 9,
   "metadata": {},
   "outputs": [],
   "source": [
    "or_elevations = sat_utils.getSentinelElevation(or_bbox, or_size, ['07/01/2020','07/31/2020'],config)"
   ]
  },
  {
   "cell_type": "markdown",
   "metadata": {},
   "source": [
    "## Calculating the Coordinates for each Pixel"
   ]
  },
  {
   "cell_type": "code",
   "execution_count": 10,
   "metadata": {
    "scrolled": true
   },
   "outputs": [
    {
     "name": "stdout",
     "output_type": "stream",
     "text": [
      "0 of 894\n",
      "100 of 894\n",
      "200 of 894\n",
      "300 of 894\n",
      "400 of 894\n",
      "500 of 894\n",
      "600 of 894\n",
      "700 of 894\n",
      "800 of 894\n"
     ]
    }
   ],
   "source": [
    "or_coordinates = sat_utils.getCoordinates(OR_coords,or_bbox,or_image)"
   ]
  },
  {
   "cell_type": "markdown",
   "metadata": {},
   "source": [
    "## Creating the final compacted data sets"
   ]
  },
  {
   "cell_type": "markdown",
   "metadata": {},
   "source": [
    "Below I have converted the compacted image and elevation data into a dataframe of size (image width * image length) x #features rather than having an array of size image width x image length x #features."
   ]
  },
  {
   "cell_type": "code",
   "execution_count": 11,
   "metadata": {},
   "outputs": [],
   "source": [
    "final_compacted_data_or = sat_utils.finalizeData(or_all_bands, or_elevations[0], or_coordinates)"
   ]
  },
  {
   "cell_type": "code",
   "execution_count": 12,
   "metadata": {},
   "outputs": [],
   "source": [
    "final_compacted_data_or.columns = ['B04','B03','B02','B05','B06','B07','B08','B8A','B09','B10','B11','B01','B12','Elevation','Lat','Lon','i','j']"
   ]
  },
  {
   "cell_type": "markdown",
   "metadata": {},
   "source": [
    "## Feature Engineering"
   ]
  },
  {
   "cell_type": "markdown",
   "metadata": {},
   "source": [
    "Explanations of the different bands (B02 through B12) as well as further explanations of the indices added below can be found [here](https://custom-scripts.sentinel-hub.com/) under 'Sentinel 2'."
   ]
  },
  {
   "cell_type": "markdown",
   "metadata": {},
   "source": [
    "<b>Moisture Index (MSI)</b> - This is B11/B08. This measures the water content in the canopy leaves of a forest. The value ranges from 0 to over 3, but the values for green vegetation are usually between 0.4 and 2."
   ]
  },
  {
   "cell_type": "code",
   "execution_count": 13,
   "metadata": {},
   "outputs": [],
   "source": [
    "final_compacted_data_or['MSI'] = final_compacted_data_or['B11']/final_compacted_data_or['B08']"
   ]
  },
  {
   "cell_type": "markdown",
   "metadata": {},
   "source": [
    "<b>Chlorophyl Red Edge (CRE)</b> - This is B07/B05 - 1."
   ]
  },
  {
   "cell_type": "code",
   "execution_count": 14,
   "metadata": {},
   "outputs": [],
   "source": [
    "final_compacted_data_or['CRE'] = final_compacted_data_or['B07']/final_compacted_data_or['B05'] - 1"
   ]
  },
  {
   "cell_type": "markdown",
   "metadata": {},
   "source": [
    "<b>Enhanced Vegetation Index (EVI) </b>- This corrects for soil background signals and atmospheric influences. It's good in areas of dense canopy coverage. The ranges of values are between -1 and 1. Healthy vegetation ranges from 0.2 to 0.8."
   ]
  },
  {
   "cell_type": "code",
   "execution_count": 15,
   "metadata": {},
   "outputs": [],
   "source": [
    "or_evi, or_end_EVI = sat_utils.getEVI(final_compacted_data_or['B08'],final_compacted_data_or['B04'],final_compacted_data_or['B02'])\n",
    "final_compacted_data_or['EVI'] = or_evi\n",
    "final_compacted_data_or[['EVI1','EVI2','EVI3']] = or_end_EVI"
   ]
  },
  {
   "cell_type": "markdown",
   "metadata": {},
   "source": [
    "<b>Normalized Difference Vegetation Index (NDVI)</b> - This normalizes green leaf scattering in Near Infra-red wavelengths with chlorophyll absorption in red wavelengths."
   ]
  },
  {
   "cell_type": "code",
   "execution_count": 16,
   "metadata": {},
   "outputs": [],
   "source": [
    "or_NDVI, or_end_NDVI = sat_utils.getNDVI(final_compacted_data_or['B08'],final_compacted_data_or['B04'])\n",
    "final_compacted_data_or['NDVI'] = or_NDVI\n",
    "final_compacted_data_or[['NDVI1','NDVI2','NDVI3']] = or_end_NDVI"
   ]
  },
  {
   "cell_type": "markdown",
   "metadata": {},
   "source": [
    "<b>Green Normalized Difference Vegetation Index (GNDVI)</b> - This is similar to NDVI but is more sensitive to variation in chlorophyll content."
   ]
  },
  {
   "cell_type": "code",
   "execution_count": 17,
   "metadata": {},
   "outputs": [],
   "source": [
    "or_gndvi = (final_compacted_data_or['B08']-final_compacted_data_or['B03'])/(final_compacted_data_or['B08']+final_compacted_data_or['B03'])\n",
    "final_compacted_data_or['GNDVI'] = or_gndvi"
   ]
  },
  {
   "cell_type": "markdown",
   "metadata": {},
   "source": [
    "<b>Modified Chlorophyll Absorption in Reflectance Index (MCARI)</b> - This gives a measure of the depth of chlorophyll absorption."
   ]
  },
  {
   "cell_type": "code",
   "execution_count": 18,
   "metadata": {},
   "outputs": [],
   "source": [
    "or_mcari = ((final_compacted_data_or['B05']-final_compacted_data_or['B04'])-0.2*(final_compacted_data_or['B05']-final_compacted_data_or['B03']))*(final_compacted_data_or['B05']/final_compacted_data_or['B04'])\n",
    "final_compacted_data_or['MCARI'] = or_mcari"
   ]
  },
  {
   "cell_type": "markdown",
   "metadata": {},
   "source": [
    "<b>Leaf Area Index (LAI)</b> - This measures the green-leaf area in a unit of land."
   ]
  },
  {
   "cell_type": "code",
   "execution_count": 19,
   "metadata": {},
   "outputs": [],
   "source": [
    "or_lai = sat_utils.getLAI(or_bbox, or_size, 'oregon_LAI',['07/01/2020','07/15/2020'],'leastCC',config)\n",
    "final_compacted_data_or['LAI'] = sat_utils.convertToSingle(or_lai[0])"
   ]
  },
  {
   "cell_type": "markdown",
   "metadata": {},
   "source": [
    "<b>Color Correction (CC)</b> - This is a Sentinel Hub algorithm based transformation of the red, green, and blue values. It performs a linear atmospheric correction and applies a curve to the color components. This enhances details in the dark areas. Since most the areas in these satellite images are dark green, this may help distinguish the different shades."
   ]
  },
  {
   "cell_type": "code",
   "execution_count": 20,
   "metadata": {},
   "outputs": [],
   "source": [
    "or_cc = sat_utils.colorCorrect(or_bbox, or_size, 'oregon_cc',['07/01/2020','07/15/2020'],'leastCC',config)\n",
    "final_compacted_data_or[['CC Red','CC Green','CC Blue']] = sat_utils.convertToSingle(or_cc[0])"
   ]
  },
  {
   "cell_type": "markdown",
   "metadata": {},
   "source": [
    "<b>Plant Senescence Reflectance Index (PSRI)</b> - This index is used to monitor the health of vegetation."
   ]
  },
  {
   "cell_type": "code",
   "execution_count": 21,
   "metadata": {},
   "outputs": [],
   "source": [
    "or_PSRI = sat_utils.getPSRI(or_bbox, or_size, 'oregon_cc',['07/01/2020','07/15/2020'],'leastCC',config)\n",
    "final_compacted_data_or['PSRI'] = sat_utils.convertToSingle(or_PSRI[0])"
   ]
  },
  {
   "cell_type": "markdown",
   "metadata": {},
   "source": [
    "## Writing the Final Data Set to a CSV File"
   ]
  },
  {
   "cell_type": "code",
   "execution_count": 23,
   "metadata": {},
   "outputs": [],
   "source": [
    "final_compacted_data_or.loc[:300000,:].to_csv('Data/Compacted Data Set1.csv',index=False)\n",
    "final_compacted_data_or.loc[300001:,:].to_csv('Data/Compacted Data Set2.csv',index=False)"
   ]
  },
  {
   "cell_type": "code",
   "execution_count": 24,
   "metadata": {},
   "outputs": [],
   "source": [
    "zipfile.ZipFile('Data/Compacted Data Set1.zip','w',zipfile.ZIP_DEFLATED).write('Data/Compacted Data Set1.csv')\n",
    "zipfile.ZipFile('Data/Compacted Data Set2.zip','w',zipfile.ZIP_DEFLATED).write('Data/Compacted Data Set2.csv')"
   ]
  },
  {
   "cell_type": "markdown",
   "metadata": {},
   "source": [
    "<b>Sources:</b> <br>\n",
    "I used this [source](https://custom-scripts.sentinel-hub.com/) for many of my scripts for interfacing with the Sentinel Hub Python API.<br>\n",
    "I used Python code from this [source](https://sentinelhub-py.readthedocs.io/en/latest/examples/processing_api_request.html) for integrating scripts from the above source into the Sentinel Hub Python API."
   ]
  },
  {
   "cell_type": "code",
   "execution_count": null,
   "metadata": {},
   "outputs": [],
   "source": []
  }
 ],
 "metadata": {
  "kernelspec": {
   "display_name": "Python 3",
   "language": "python",
   "name": "python3"
  },
  "language_info": {
   "codemirror_mode": {
    "name": "ipython",
    "version": 3
   },
   "file_extension": ".py",
   "mimetype": "text/x-python",
   "name": "python",
   "nbconvert_exporter": "python",
   "pygments_lexer": "ipython3",
   "version": "3.7.1"
  }
 },
 "nbformat": 4,
 "nbformat_minor": 4
}
